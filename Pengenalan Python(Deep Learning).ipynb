{
 "cells": [
  {
   "cell_type": "markdown",
   "metadata": {},
   "source": [
    "# Pengenalan Python\n",
    "\n",
    "# Python\n",
    "Python adalah Bahasa pemrograman yang menekankan  pada keterbacaan kode agar mudah memahami sintaks. Bahasa ini dirilis pertama kali oleh Guido van Rossum pada tahun 1991. Python termasuk Bahasa tingkat tinggi (high-level programming language). Python juga bersifat open source\n",
    "\n",
    "# Keunggulan Bahasa Python\n",
    "- Mudah dipelajari\n",
    "- Perintah yang singkat\n",
    "- bisa digunakan di berbagai Sistem Operasi\n",
    "- Mendukung multiparadigma\n",
    "- Memiliki banyak library\n",
    "\n",
    "# Versi pada Python\n",
    "Ada 2 versi python, yaitu versi 2 dan 3. Python 2 masih banyak digunakan dilingkungan produksi dan pengembangan. Sedangkan untuk Python 3 adalah pengembangan dari versi 2 yang memiliki tambahan fitur.\n",
    "\n",
    "# Instalasi Python\n",
    "Download Python di : www.python.org/\n",
    "\n",
    "Setelah itu pilih versi dari python yang ingin di download dan pilih Sistem Operasi yang digunakan\n",
    "\n",
    "# Aturan Penulisan Variabel\n",
    "- Bisa terdiri dari huruf kecil, huruf besar, angka dan underscore\n",
    "- Awalan tidak bisa menggunakan angka\n",
    "- Kata kunci tidak bisa digunakan pada tanda pengenal\n",
    "- Karakter spesial tidak bisa digunakan untuk tanda pengenal\n",
    "- Bersifat Case Sensitive\n",
    "\n",
    "# Tipe Data Python\n",
    "Tipe data dalam python terdiri dari :\n",
    "- Number\n",
    "- String\n",
    "- Boolean\n",
    "- List\n",
    "- Dictionary\n",
    "- Tuple\n",
    "\n",
    "## Number\n",
    "Tipe data Number terbagi menjadi 2, yaitu :\n",
    "- Int : bertipe bilangan bulat\n",
    "- Float : bertipe bilangan pecahan\n"
   ]
  },
  {
   "cell_type": "code",
   "execution_count": 1,
   "metadata": {},
   "outputs": [
    {
     "data": {
      "text/plain": [
       "int"
      ]
     },
     "execution_count": 1,
     "metadata": {},
     "output_type": "execute_result"
    }
   ],
   "source": [
    "angka = 11\n",
    "type(angka)"
   ]
  },
  {
   "cell_type": "code",
   "execution_count": 2,
   "metadata": {},
   "outputs": [
    {
     "data": {
      "text/plain": [
       "float"
      ]
     },
     "execution_count": 2,
     "metadata": {},
     "output_type": "execute_result"
    }
   ],
   "source": [
    "angka = 11.0\n",
    "type(angka)"
   ]
  },
  {
   "cell_type": "markdown",
   "metadata": {},
   "source": [
    "## Boolean\n",
    "Tipe data ini hanya memiliki 2 nilai yaitu True dan False"
   ]
  },
  {
   "cell_type": "code",
   "execution_count": 7,
   "metadata": {},
   "outputs": [
    {
     "data": {
      "text/plain": [
       "bool"
      ]
     },
     "execution_count": 7,
     "metadata": {},
     "output_type": "execute_result"
    }
   ],
   "source": [
    "boo = True\n",
    "type(boo)"
   ]
  },
  {
   "cell_type": "markdown",
   "metadata": {},
   "source": [
    "## String\n",
    "Tipe data ini berupa kumpulan karakter. Biasanya menggunakan tanda petik saat membuatnya."
   ]
  },
  {
   "cell_type": "code",
   "execution_count": 12,
   "metadata": {},
   "outputs": [
    {
     "data": {
      "text/plain": [
       "str"
      ]
     },
     "execution_count": 12,
     "metadata": {},
     "output_type": "execute_result"
    }
   ],
   "source": [
    "sst = 'Coba'\n",
    "type(sst)"
   ]
  },
  {
   "cell_type": "markdown",
   "metadata": {},
   "source": [
    "## List\n",
    "Tipe data yang berisi data yang berurut. Dipisahkan oleh koma dan ditandai dengan kurung siku ([...])"
   ]
  },
  {
   "cell_type": "code",
   "execution_count": 13,
   "metadata": {},
   "outputs": [
    {
     "name": "stdout",
     "output_type": "stream",
     "text": [
      "['A', 'B', 'C', 'D']\n"
     ]
    },
    {
     "data": {
      "text/plain": [
       "['B', 'C']"
      ]
     },
     "execution_count": 13,
     "metadata": {},
     "output_type": "execute_result"
    }
   ],
   "source": [
    "huruf = ['A','B','C','D']\n",
    "print(huruf)\n",
    "huruf[1:3]"
   ]
  },
  {
   "cell_type": "markdown",
   "metadata": {},
   "source": [
    "## Tuple\n",
    "Tipe data yang hampir sama dengan List. Hanya saja elemennya tidak bisa diubah. Ditandai dengan kurung '(' dan ditutup dengan ')'"
   ]
  },
  {
   "cell_type": "code",
   "execution_count": 14,
   "metadata": {},
   "outputs": [
    {
     "name": "stdout",
     "output_type": "stream",
     "text": [
      "('Satu', 'Dua', 'Tiga', 'Empat')\n"
     ]
    }
   ],
   "source": [
    "angka = ('Satu','Dua','Tiga','Empat')\n",
    "print(angka)"
   ]
  },
  {
   "cell_type": "markdown",
   "metadata": {},
   "source": [
    "## Dictionary\n",
    "Tipe data ini anggotanya terdiri dari kunci dan nilainya. Ditandai dengan kurung kurawal ({...})"
   ]
  },
  {
   "cell_type": "code",
   "execution_count": 15,
   "metadata": {},
   "outputs": [
    {
     "name": "stdout",
     "output_type": "stream",
     "text": [
      "4\n"
     ]
    }
   ],
   "source": [
    "nilai = {'Satu':1,'Dua':2,'Tiga':3,'Empat':4}\n",
    "print(nilai['Empat'])"
   ]
  },
  {
   "cell_type": "markdown",
   "metadata": {},
   "source": [
    "# Operator\n",
    "Ada beberapa macam operator pada python, misalnya :\n",
    "\n",
    "- Operator Aritmatika\n",
    "- Operator Perbandingan\n",
    "- Operator Logika\n",
    "- dan lain sebagainya\n",
    "\n",
    "## Operator Aritmatika\n",
    "- Penjumlahan (+)\n",
    "- Pengurangan (-)\n",
    "- Perkalian (*)\n",
    "- Pembagian (/)\n",
    "- Sisa Hasil Bagi (%)\n",
    "- Pangkat (**)\n",
    "- Pembagian Bulat (//)"
   ]
  },
  {
   "cell_type": "code",
   "execution_count": 16,
   "metadata": {},
   "outputs": [
    {
     "name": "stdout",
     "output_type": "stream",
     "text": [
      "Hasil Penjumlahan = 15\n",
      "Hasil Pengurangan = 7\n",
      "Hasil Perkalian = 44\n",
      "Hasil Pembagian = 2.75\n",
      "Sisa Hasil Bagi = 3\n",
      "Hasil Pembagian dengan dibulatkan = 2\n"
     ]
    }
   ],
   "source": [
    "a = 11\n",
    "b = 4\n",
    "print('Hasil Penjumlahan =',(a+b))\n",
    "print('Hasil Pengurangan =',(a-b))\n",
    "print('Hasil Perkalian =',(a*b))\n",
    "print('Hasil Pembagian =',(a/b))\n",
    "print('Sisa Hasil Bagi =',(a%b))\n",
    "print('Hasil Pembagian dengan dibulatkan =',(a//b))"
   ]
  },
  {
   "cell_type": "markdown",
   "metadata": {},
   "source": [
    "## Operator Perbandingan\n",
    "- Sama Dengan (==)\n",
    "- Lebih Besar dari (>)\n",
    "- Lebih kecil dari (<)\n",
    "- Tidak sama dengan (!=)\n",
    "- Lebih Besar sama dengan (>=)\n",
    "- Lebih kecil sama dengan (<=)"
   ]
  },
  {
   "cell_type": "code",
   "execution_count": 18,
   "metadata": {},
   "outputs": [
    {
     "name": "stdout",
     "output_type": "stream",
     "text": [
      "A sama dengan B : False\n",
      "B tidak sama dengan A : True\n",
      "A lebih kecil dari C : False\n",
      "C lebih besar dari A : False\n",
      "B lebih besar sama dengan C : True\n",
      "C lebih kecil sama dengan B : True\n"
     ]
    }
   ],
   "source": [
    "A = 19\n",
    "B = 10\n",
    "C = 5\n",
    "print('A sama dengan B :', (A==B))\n",
    "print('B tidak sama dengan A :', (B!=A))\n",
    "print('A lebih kecil dari C :', (A<C))\n",
    "print('C lebih besar dari A :', (C>A))\n",
    "print('B lebih besar sama dengan C :', (B>=C))\n",
    "print('C lebih kecil sama dengan B :', (C<=B))"
   ]
  },
  {
   "cell_type": "markdown",
   "metadata": {},
   "source": [
    "## Operator Logika\n",
    "- AND\n",
    "- OR\n",
    "- NOT"
   ]
  },
  {
   "cell_type": "code",
   "execution_count": 19,
   "metadata": {},
   "outputs": [
    {
     "name": "stdout",
     "output_type": "stream",
     "text": [
      "Contoh Operator AND : False\n",
      "Contoh Operator OR : True\n",
      "Contoh Operator NOT : True\n"
     ]
    }
   ],
   "source": [
    "x = True\n",
    "y = False\n",
    "print('Contoh Operator AND :',(x and y))\n",
    "print('Contoh Operator OR :',(x or y))\n",
    "print('Contoh Operator NOT :',(not y))"
   ]
  },
  {
   "cell_type": "markdown",
   "metadata": {},
   "source": [
    "# Percabangan\n",
    "Percabangan di python yang umum digunakan adalah :\n",
    "- if else, dan\n",
    "- if elif else"
   ]
  },
  {
   "cell_type": "code",
   "execution_count": 22,
   "metadata": {},
   "outputs": [
    {
     "name": "stdout",
     "output_type": "stream",
     "text": [
      "Hasilnya benar\n"
     ]
    }
   ],
   "source": [
    "a = 1\n",
    "if(a==1):\n",
    "    print('Hasilnya benar')\n",
    "else:\n",
    "    print('Hasilnya salah')"
   ]
  },
  {
   "cell_type": "markdown",
   "metadata": {},
   "source": [
    "# Perulangan\n",
    "Perulangan di python yang biasa digunakan adalah :\n",
    "- For loop\n",
    "- While loop"
   ]
  },
  {
   "cell_type": "code",
   "execution_count": 23,
   "metadata": {},
   "outputs": [
    {
     "name": "stdout",
     "output_type": "stream",
     "text": [
      "0\n",
      "1\n",
      "2\n",
      "3\n",
      "4\n",
      "5\n"
     ]
    }
   ],
   "source": [
    "for i in range(6):\n",
    "    print(i)"
   ]
  },
  {
   "cell_type": "markdown",
   "metadata": {},
   "source": [
    "# Sumber\n",
    "- https://www.python.org/\n",
    "- https://belajarpython.com/tutorial/apa-itu-python\n",
    "- https://www.duniailkom.com/tutorial-belajar-bahasa-pemrograman-python-untuk-pemula/\n",
    "- https://www.pythonindo.com/tutorial-python-dasar/\n",
    "- https://www.petanikode.com/python-linux/"
   ]
  }
 ],
 "metadata": {
  "kernelspec": {
   "display_name": "Python 3",
   "language": "python",
   "name": "python3"
  },
  "language_info": {
   "codemirror_mode": {
    "name": "ipython",
    "version": 3
   },
   "file_extension": ".py",
   "mimetype": "text/x-python",
   "name": "python",
   "nbconvert_exporter": "python",
   "pygments_lexer": "ipython3",
   "version": "3.6.2"
  }
 },
 "nbformat": 4,
 "nbformat_minor": 2
}
